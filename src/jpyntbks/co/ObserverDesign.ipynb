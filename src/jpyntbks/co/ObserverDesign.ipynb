{
 "cells": [
  {
   "cell_type": "code",
   "execution_count": 1,
   "metadata": {},
   "outputs": [],
   "source": [
    "\n",
    "from __future__ import division\n",
    "import numpy as np\n",
    "\n",
    "import matplotlib.pyplot as plt\n",
    "%matplotlib inline\n",
    "\n",
    "import control\n",
    "import control.matlab as mlab\n",
    "from matplotlib import cm\n",
    "from matplotlib.ticker import LinearLocator, FormatStrFormatter\n",
    "from mpl_toolkits.mplot3d import Axes3D\n",
    "import scipy.linalg as sla\n",
    "import scipy.integrate as integrate\n",
    "from sympy import Matrix\n",
    "import numpy.linalg as nla\n",
    "import matplotlib as mpl\n",
    "from _547utils import *\n",
    "%load_ext autoreload\n",
    "%autoreload 2\n",
    "np.set_printoptions(precision=2)\n",
    "lw=4\n",
    "fs=20"
   ]
  },
  {
   "cell_type": "markdown",
   "metadata": {},
   "source": [
    "## Reminder\n",
    "### Continuous Time Controllability \n",
    "To check controllability there are three tests:\n",
    "* matrix rank: $$\\mathrm{rank}(\\mathcal{C})=\\mathrm{rank}\\left(\\begin{bmatrix} B & AB & \\cdots  &A^{n-1}B\\end{bmatrix}\\right)=n?$$\n",
    "* PBH: at $s\\in \\text{spec}(A)$, $$\\mathrm{rank}\\left(\\begin{bmatrix} sI-A & B\\end{bmatrix}\\right)=n?$$\n",
    "* Lyapunov test: if $A$ is stable, $(A,B)$ is controllable iff $\\exists!\\ W=W^\\top >0$ s.t. $$AW+WA^\\top=-BB^\\top$$\n",
    "\n",
    "\n",
    "\n",
    "### Continuous Time Observability\n",
    "To check observability there are three tests:\n",
    "* matrix rank: $$\\mathrm{rank}(\\mathcal{O})=\\mathrm{rank}\\left(\\begin{bmatrix} C \\\\ CA\\\\ \\vdots \\\\CA^{n-1}\\end{bmatrix}\\right)=n?$$\n",
    "* PBH: at $s\\in \\text{spec}(A)$, $$\\mathrm{rank}\\left(\\begin{bmatrix} sI-A\\\\ C\\end{bmatrix}\\right)=n?$$\n",
    "* Lyapunov test: if $A$ is stable, $(C,A)$ is controllable iff $\\exists!\\ P=P^\\top >0$ s.t. $$A^\\top P+PA=-C^\\top C$$"
   ]
  },
  {
   "cell_type": "code",
   "execution_count": 6,
   "metadata": {},
   "outputs": [
    {
     "name": "stdout",
     "output_type": "stream",
     "text": [
      "4\n",
      "A :\n",
      " [[0.64 0.38 0.66 0.16]\n",
      " [0.96 0.35 0.99 0.24]\n",
      " [0.59 0.41 0.14 0.54]\n",
      " [0.52 0.77 0.93 0.09]]\n",
      "C :\n",
      " [[1 1 1 0]\n",
      " [1 0 0 1]]\n",
      "B :\n",
      " [[0.9  0.29]\n",
      " [0.56 0.38]\n",
      " [0.03 0.49]\n",
      " [0.83 0.37]]\n",
      "spec(A): \n",
      " [ 2.01  0.05 -0.32 -0.53]\n"
     ]
    }
   ],
   "source": [
    "np.random.seed(30)\n",
    "print(n)\n",
    "p=2; m=2\n",
    "A=np.random.rand(n,n)\n",
    "#A=np.array([[-1, 0, 0, -1],\n",
    "#            [0, -1, 0, 0],\n",
    "#           [0, 0, -1, 0],\n",
    "#           [-1, 0, 0, -1]])\n",
    "C=np.random.rand(p,n)\n",
    "C=np.array([[1, 1, 1, 0],[1,0,0,1]])\n",
    "B=np.random.rand(n,m)\n",
    "print(\"A :\\n\", A)\n",
    "print(\"C :\\n\", C)\n",
    "print(\"B :\\n\", B)\n",
    "print(\"spec(A): \\n\", np.real(np.linalg.eig(A)[0]))"
   ]
  },
  {
   "cell_type": "code",
   "execution_count": 7,
   "metadata": {},
   "outputs": [
    {
     "name": "stdout",
     "output_type": "stream",
     "text": [
      "is detectable?:  True\n",
      "is CO   :   True\n",
      "rank(O):  4\n",
      "[[1.   1.   1.   0.  ]\n",
      " [1.   0.   0.   1.  ]\n",
      " [2.19 1.13 1.79 0.94]\n",
      " [1.16 1.15 1.6  0.25]\n",
      " [4.04 2.68 3.7  1.68]\n",
      " [2.92 1.68 2.36 1.35]\n",
      " [8.22 5.27 7.41 3.46]\n",
      " [5.59 3.69 5.19 2.28]]\n"
     ]
    }
   ],
   "source": [
    "# Test the detectability function\n",
    "detect(A, C,verbose=True)\n",
    "Wo=getObsMat(A,C)\n",
    "isOBSV(Wo, n)\n",
    "print(Wo)"
   ]
  },
  {
   "cell_type": "markdown",
   "metadata": {},
   "source": [
    "### Find a $L$ that makes the observer have poles in the left half plane"
   ]
  },
  {
   "cell_type": "code",
   "execution_count": 13,
   "metadata": {},
   "outputs": [
    {
     "name": "stdout",
     "output_type": "stream",
     "text": [
      "[[ 2.43 -4.15]\n",
      " [ 0.49  1.93]\n",
      " [ 0.48  3.85]\n",
      " [-1.4   7.59]]\n",
      "[-1.   -0.62 -2.   -2.  ]\n"
     ]
    }
   ],
   "source": [
    "L=control.place(A.T, C.T, [-2,  -0.62, -2.  , -1.  ])\n",
    "print(L.T)\n",
    "Ao=A-L.T@C\n",
    "print(np.linalg.eig(Ao)[0])"
   ]
  },
  {
   "cell_type": "markdown",
   "metadata": {},
   "source": [
    "### Find $K$ that stabilizes"
   ]
  },
  {
   "cell_type": "code",
   "execution_count": 14,
   "metadata": {},
   "outputs": [
    {
     "name": "stdout",
     "output_type": "stream",
     "text": [
      "[[  90.14   38.79    0.99 -109.46]\n",
      " [-146.92  -13.28   -6.13  162.83]]\n",
      "[[-38.63 -30.82   1.52  52.31]\n",
      " [  6.18 -16.21   2.75  -0.24]\n",
      " [ 70.78   5.94   3.14 -77.01]\n",
      " [-20.81 -26.74   2.36  31.7 ]]\n"
     ]
    }
   ],
   "source": [
    "K=control.place(A,B,[-4,-2,-7+2j, -7-2j])\n",
    "print(K)\n",
    "Ac=A-B@K\n",
    "print(Ac)"
   ]
  },
  {
   "cell_type": "code",
   "execution_count": 15,
   "metadata": {},
   "outputs": [
    {
     "name": "stdout",
     "output_type": "stream",
     "text": [
      "[[-3.86e+01 -3.08e+01  1.52e+00  5.23e+01 -3.93e+01 -3.12e+01  8.61e-01\n",
      "   5.21e+01]\n",
      " [ 6.18e+00 -1.62e+01  2.75e+00 -2.43e-01  5.22e+00 -1.66e+01  1.76e+00\n",
      "  -4.78e-01]\n",
      " [ 7.08e+01  5.94e+00  3.14e+00 -7.70e+01  7.02e+01  5.53e+00  3.00e+00\n",
      "  -7.75e+01]\n",
      " [-2.08e+01 -2.67e+01  2.36e+00  3.17e+01 -2.13e+01 -2.75e+01  1.42e+00\n",
      "   3.16e+01]\n",
      " [ 0.00e+00  0.00e+00  0.00e+00  0.00e+00  2.37e+00 -2.05e+00 -1.77e+00\n",
      "   4.32e+00]\n",
      " [ 0.00e+00  0.00e+00  0.00e+00  0.00e+00 -1.46e+00 -1.47e-01  4.98e-01\n",
      "  -1.69e+00]\n",
      " [ 0.00e+00  0.00e+00  0.00e+00  0.00e+00 -3.74e+00 -7.11e-02 -3.42e-01\n",
      "  -3.31e+00]\n",
      " [ 0.00e+00  0.00e+00  0.00e+00  0.00e+00 -5.67e+00  2.17e+00  2.33e+00\n",
      "  -7.50e+00]]\n"
     ]
    }
   ],
   "source": [
    "Afb=np.asarray(np.vstack((np.hstack((Ac,-B@K)),np.hstack((np.zeros((n,n)),Ao)))))\n",
    "print(Afb)"
   ]
  },
  {
   "cell_type": "code",
   "execution_count": 19,
   "metadata": {},
   "outputs": [
    {
     "name": "stdout",
     "output_type": "stream",
     "text": [
      "[10 10 10 10 20 20 20 20]\n"
     ]
    }
   ],
   "source": [
    "f=lambda t,x: Afb@x\n",
    "x0=np.random.rand(n+n)\n",
    "x0=np.array([10,10,10,10,20,20,20,20])\n",
    "print(x0)\n",
    "t,x=feuler(f,T=10,t0=0,x0=x0,MAXITERS=None, dt=1e-2)"
   ]
  },
  {
   "cell_type": "code",
   "execution_count": 22,
   "metadata": {},
   "outputs": [
    {
     "data": {
      "text/plain": [
       "(1000, 8)"
      ]
     },
     "execution_count": 22,
     "metadata": {},
     "output_type": "execute_result"
    }
   ],
   "source": [
    "np.shape(x)"
   ]
  },
  {
   "cell_type": "code",
   "execution_count": 36,
   "metadata": {},
   "outputs": [
    {
     "data": {
      "text/plain": [
       "Text(0, 0.5, 'error')"
      ]
     },
     "execution_count": 36,
     "metadata": {},
     "output_type": "execute_result"
    },
    {
     "data": {
      "image/png": "[encoded data removed]",
      "text/plain": [
       "<Figure size 432x288 with 1 Axes>"
      ]
     },
     "metadata": {},
     "output_type": "display_data"
    },
    {
     "data": {
      "image/png": "[encoded data removed]",
      "text/plain": [
       "<Figure size 432x288 with 1 Axes>"
      ]
     },
     "metadata": {},
     "output_type": "display_data"
    }
   ],
   "source": [
    "plt.figure(figsize=(6,4))\n",
    "plt.style.use('dark_background')\n",
    "labs=[r'$x_1$',r'$x_2$',r'$x_3$',r'$x_4$']\n",
    "for j in range(4):\n",
    "    plt.plot(t,x[:,j], label=labs[j], linewidth=4)\n",
    "\n",
    "plt.legend(fontsize=20)\n",
    "plt.tick_params(labelsize=20)\n",
    "plt.xlabel('time', fontsize=20)\n",
    "plt.ylabel('state', fontsize=20)\n",
    "\n",
    "plt.figure(figsize=(6,4))\n",
    "plt.style.use('dark_background')\n",
    "labs=[r'$e_1$',r'$e_2$',r'$e_3$',r'$e_4$']\n",
    "for j in range(4,8):\n",
    "    plt.plot(t,x[:,j], label=labs[j-4], linewidth=4)\n",
    "\n",
    "plt.legend(fontsize=20, loc=4, bbox_to_anchor=(1.35,0))\n",
    "plt.tick_params(labelsize=20)\n",
    "plt.xlabel('time', fontsize=20)\n",
    "plt.ylabel('error', fontsize=20)"
   ]
  },
  {
   "cell_type": "markdown",
   "metadata": {},
   "source": [
    "## Suggestions\n",
    "- try plotting the original trajectory and compare\n",
    "- try plotting the estimated state $\\hat{x}$ instead of the error\n",
    "- Play around with the dynamics"
   ]
  },
  {
   "cell_type": "code",
   "execution_count": null,
   "metadata": {},
   "outputs": [],
   "source": []
  }
 ],
 "metadata": {
  "kernelspec": {
   "display_name": "Python 3",
   "language": "python",
   "name": "python3"
  },
  "language_info": {
   "codemirror_mode": {
    "name": "ipython",
    "version": 3
   },
   "file_extension": ".py",
   "mimetype": "text/x-python",
   "name": "python",
   "nbconvert_exporter": "python",
   "pygments_lexer": "ipython3",
   "version": "3.7.6"
  }
 },
 "nbformat": 4,
 "nbformat_minor": 4
}
