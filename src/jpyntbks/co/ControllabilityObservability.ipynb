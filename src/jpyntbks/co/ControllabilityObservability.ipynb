{
 "cells": [
  {
   "cell_type": "code",
   "execution_count": 2,
   "metadata": {},
   "outputs": [],
   "source": [
    "\n",
    "from __future__ import division\n",
    "import numpy as np\n",
    "\n",
    "import matplotlib.pyplot as plt\n",
    "%matplotlib inline\n",
    "\n",
    "import control\n",
    "import control.matlab as mlab\n",
    "from matplotlib import cm\n",
    "from matplotlib.ticker import LinearLocator, FormatStrFormatter\n",
    "from mpl_toolkits.mplot3d import Axes3D\n",
    "import scipy.linalg as sla\n",
    "import scipy.integrate as integrate\n",
    "from sympy import Matrix\n",
    "import numpy.linalg as nla\n",
    "import matplotlib as mpl\n",
    "from _547utils import *\n",
    "%load_ext autoreload\n",
    "%autoreload 2\n",
    "np.set_printoptions(precision=2)\n",
    "lw=4\n",
    "fs=20"
   ]
  },
  {
   "cell_type": "code",
   "execution_count": 9,
   "metadata": {},
   "outputs": [],
   "source": [
    "def isPSD(P, verbose=True):\n",
    "    if np.allclose(P,P.T, rtol=1e-3) and np.all(np.linalg.eig(P)[0]>0):\n",
    "        print('is PD?  :   True')\n",
    "        if verbose:\n",
    "            print('eigs(P) :  ', np.linalg.eig(P)[0])\n",
    "    else: print('is PD?  :   False')"
   ]
  },
  {
   "cell_type": "markdown",
   "metadata": {},
   "source": [
    "## Controllability \n",
    "### Continuous Time \n",
    "To check controllability there are three tests:\n",
    "* matrix rank: $$\\mathrm{rank}(\\mathcal{C})=\\mathrm{rank}\\left(\\begin{bmatrix} B & AB & \\cdots  &A^{n-1}B\\end{bmatrix}\\right)=n?$$\n",
    "* PBH: at $s\\in \\text{spec}(A)$, $$\\mathrm{rank}\\left(\\begin{bmatrix} sI-A & B\\end{bmatrix}\\right)=n?$$\n",
    "* Lyapunov test: if $A$ is stable, $(A,B)$ is controllable iff $\\exists!\\ W=W^\\top >0$ s.t. $$AW+WA^\\top=-BB^\\top$$"
   ]
  },
  {
   "cell_type": "code",
   "execution_count": 66,
   "metadata": {},
   "outputs": [
    {
     "name": "stdout",
     "output_type": "stream",
     "text": [
      "A:\n",
      " [[-1.56  0.03  0.55  0.44]\n",
      " [ 0.42 -1.67  0.2   0.62]\n",
      " [ 0.3   0.27 -1.38  0.53]\n",
      " [ 0.13  0.51  0.18 -1.21]]\n",
      "B:\n",
      " [[0.85 0.49]\n",
      " [0.85 0.08]\n",
      " [0.51 0.07]\n",
      " [0.43 0.1 ]]\n",
      "eig(A):\n",
      " [-0.4 +0.j   -1.92+0.14j -1.92-0.14j -1.58+0.j  ]\n",
      "\n"
     ]
    }
   ],
   "source": [
    "n=4 # system dimensions\n",
    "m= 2\n",
    "np.random.seed(2)\n",
    "A=np.random.rand(n,n)-2*np.eye(n) # generate random stable matrix\n",
    "print(\"A:\\n\", A)\n",
    "B=np.random.rand(n,m)\n",
    "print(\"B:\\n\", B)\n",
    "print(\"eig(A):\\n\", np.linalg.eig(A)[0])\n",
    "print(\"\")\n",
    "Id=np.eye(n)"
   ]
  },
  {
   "cell_type": "markdown",
   "metadata": {},
   "source": [
    "### Let's do the matrix rank test"
   ]
  },
  {
   "cell_type": "code",
   "execution_count": 74,
   "metadata": {},
   "outputs": [],
   "source": [
    "def isCTRB(C, n):\n",
    "    if np.linalg.matrix_rank(C)==n:\n",
    "        print('is CC?   :   True')\n",
    "        print(\"rank(C): \", np.linalg.matrix_rank(C))\n",
    "    else: print('is CC?   :   False')\n"
   ]
  },
  {
   "cell_type": "code",
   "execution_count": 75,
   "metadata": {},
   "outputs": [
    {
     "name": "stdout",
     "output_type": "stream",
     "text": [
      "True\n",
      "is CC?   :   True\n",
      "rank(C):  4\n",
      "is CC?   :   True\n",
      "rank(C):  4\n"
     ]
    }
   ],
   "source": [
    "n=A.shape[0]\n",
    "C_=B\n",
    "for i in range(n-1):\n",
    "    A_=np.copy(A)\n",
    "    for j in range(i): A_=A_@A\n",
    "    C_=np.hstack((C_, A_@B))\n",
    "    \n",
    "# use the control toolbox\n",
    "C=control.ctrb(A,B)\n",
    "print(np.allclose(C,C_, rtol=1e-3)) # check that they are teh same\n",
    "isCTRB(C, n)\n",
    "isCTRB(C_, n)\n"
   ]
  },
  {
   "cell_type": "markdown",
   "metadata": {},
   "source": [
    "#### Let's do the PBH test"
   ]
  },
  {
   "cell_type": "code",
   "execution_count": 76,
   "metadata": {},
   "outputs": [],
   "source": [
    "## this is a simple function to implement the PBH test\n",
    "\n",
    "def PBH(A):\n",
    "    '''PBH test\n",
    "    input: dynamics A, nxn array\n",
    "    output: true if rank(sI-A|B)=n for all s in spec(A)\n",
    "            false otherwise\n",
    "    '''\n",
    "    print(np.all(np.array([np.linalg.matrix_rank(np.hstack((s*np.eye(A.shape[0])-A, B)))-A.shape[0] for s in np.linalg.eig(A)[0]])<=1e-4))\n",
    "\n",
    "    "
   ]
  },
  {
   "cell_type": "code",
   "execution_count": 77,
   "metadata": {},
   "outputs": [
    {
     "name": "stdout",
     "output_type": "stream",
     "text": [
      "True\n"
     ]
    }
   ],
   "source": [
    "PBH(A)"
   ]
  },
  {
   "cell_type": "markdown",
   "metadata": {},
   "source": [
    "#### Let's do the Lyapunov test"
   ]
  },
  {
   "cell_type": "code",
   "execution_count": 78,
   "metadata": {},
   "outputs": [
    {
     "name": "stdout",
     "output_type": "stream",
     "text": [
      "W:\n",
      " [[0.6  0.51 0.48 0.65]\n",
      " [0.51 0.49 0.45 0.61]\n",
      " [0.48 0.45 0.44 0.61]\n",
      " [0.65 0.61 0.61 0.89]]\n",
      "\n",
      "is PD?  :   True\n",
      "eigs(P) :   [2.31e+00 8.30e-02 1.98e-02 8.32e-04]\n"
     ]
    }
   ],
   "source": [
    "\n",
    "\n",
    "Q=-B@B.T\n",
    "W=sla.solve_lyapunov(A.T,Q)\n",
    "print(\"W:\\n\",W)\n",
    "print(\"\")\n",
    "isPSD(W)"
   ]
  },
  {
   "cell_type": "markdown",
   "metadata": {},
   "source": [
    "## Now that you see how to do this for Controllability, can you create similar functions for observability?\n",
    "\n",
    "### Continuous Time \n",
    "To check observability there are three tests:\n",
    "* matrix rank: $$\\mathrm{rank}(\\mathcal{O})=\\mathrm{rank}\\left(\\begin{bmatrix} C \\\\ CA\\\\ \\vdots \\\\CA^{n-1}\\end{bmatrix}\\right)=n?$$\n",
    "* PBH: at $s\\in \\text{spec}(A)$, $$\\mathrm{rank}\\left(\\begin{bmatrix} sI-A\\\\ C\\end{bmatrix}\\right)=n?$$\n",
    "* Lyapunov test: if $A$ is stable, $(C,A)$ is controllable iff $\\exists!\\ P=P^\\top >0$ s.t. $$A^\\top P+PA=-C^\\top C$$"
   ]
  },
  {
   "cell_type": "markdown",
   "metadata": {},
   "source": [
    "## Next Up: Can we design an input to stabilize?\n",
    "After we talk about controllability, we will introduce the notion of stabilizability and how to leverage Lyapunov theory to design feedback stabilizing controller."
   ]
  }
 ],
 "metadata": {
  "kernelspec": {
   "display_name": "Python 3",
   "language": "python",
   "name": "python3"
  },
  "language_info": {
   "codemirror_mode": {
    "name": "ipython",
    "version": 3
   },
   "file_extension": ".py",
   "mimetype": "text/x-python",
   "name": "python",
   "nbconvert_exporter": "python",
   "pygments_lexer": "ipython3",
   "version": "3.7.6"
  }
 },
 "nbformat": 4,
 "nbformat_minor": 4
}
